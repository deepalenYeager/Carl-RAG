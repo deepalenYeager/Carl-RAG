{
 "cells": [
  {
   "cell_type": "markdown",
   "metadata": {},
   "source": [
    "pip install markitdown   \n",
    "This is an open-source package for converting PDF to MarkDown."
   ]
  },
  {
   "cell_type": "code",
   "execution_count": 4,
   "metadata": {},
   "outputs": [],
   "source": [
    "from markitdown import MarkItDown\n",
    "\n",
    "md = MarkItDown()\n",
    "result = md.convert(\"data/2024全球经济金融展望报告.pdf\")\n",
    "with open(\"data/md_file.md\", \"w\", encoding=\"utf-8\") as f:\n",
    "    f.write(result.text_content)"
   ]
  },
  {
   "cell_type": "markdown",
   "metadata": {},
   "source": [
    "Merge all page content into one string"
   ]
  },
  {
   "cell_type": "code",
   "execution_count": 10,
   "metadata": {},
   "outputs": [],
   "source": [
    "from langchain_community.document_loaders import PyPDFLoader\n",
    "from langchain.schema import Document\n",
    "import re\n",
    "\n",
    "loader = PyPDFLoader(\"data/2024全球经济金融展望报告.pdf\")\n",
    "documents = loader.load()\n",
    "\n",
    "### documents is a list where each element is a Document object, which respresenting each page of content loaded from  the PDF document.\n",
    "pattern = r\"^全球经济金融展望报告\\n中国银行研究院 \\d+ 2024年\"\n",
    "merged_docs = [Document(page_content='\\n'.join(re.sub(pattern, '', doc.page_content) for doc in documents))]\n"
   ]
  },
  {
   "cell_type": "markdown",
   "metadata": {},
   "source": [
    "split document"
   ]
  },
  {
   "cell_type": "code",
   "execution_count": 11,
   "metadata": {},
   "outputs": [],
   "source": [
    "import os\n",
    "import pickle\n",
    "from uuid import uuid4\n",
    "from langchain.text_splitter import RecursiveCharacterTextSplitter\n",
    "\n",
    "def split_docs(documents, filepath, chunk_size=400, chunk_overlap=40, seperators=['\\n\\n\\n', '\\n\\n'], force_split=False):\n",
    "    if os.path.exists(filepath) and not force_split:\n",
    "        print('found cache, restoring...')\n",
    "        return pickle.load(open(filepath, 'rb'))\n",
    "\n",
    "    splitter = RecursiveCharacterTextSplitter(\n",
    "        chunk_size=chunk_size,\n",
    "        chunk_overlap=chunk_overlap,\n",
    "        separators=seperators\n",
    "    )\n",
    "    split_docs = splitter.split_documents(documents)\n",
    "    for chunk in split_docs:\n",
    "        chunk.metadata['uuid'] = str(uuid4())\n",
    "\n",
    "    pickle.dump(split_docs, open(filepath, 'wb'))\n",
    "\n",
    "    return split_docs\n"
   ]
  },
  {
   "cell_type": "code",
   "execution_count": 13,
   "metadata": {},
   "outputs": [],
   "source": [
    "splitted_docs = split_docs(documents, os.path.join(\"outputs\", 'split_docs.pkl'), chunk_size=500, chunk_overlap=50)\n",
    "splitted_docs_large = split_docs(merged_docs, os.path.join(\"outputs\", 'split_docs_large.pkl'), chunk_size=1500, chunk_overlap=100)"
   ]
  },
  {
   "cell_type": "markdown",
   "metadata": {},
   "source": [
    "extract qa"
   ]
  },
  {
   "cell_type": "code",
   "execution_count": 15,
   "metadata": {},
   "outputs": [],
   "source": [
    "qa_gen_prompt_tmpl = \"\"\"\n",
    "我会给你一段文本（<document></document>之间的部分），你需要阅读这段文本，分别针对这段文本生成8个问题、用户回答这个问题的上下文，和基于上下文对问题的回答。\n",
    "\n",
    "对问题、上下文、答案的要求：\n",
    "\n",
    "问题要与这段文本相关，不要询问类似“这个问题的答案在哪一章”这样的问题\n",
    "上下文：上下文必须与原始文本的内容保持一致，不要进行缩写、扩写、改写、摘要、替换词语等\n",
    "答案：回答请保持完整且简洁，无须重复问题。答案要能够独立回答问题，而不是引用现有的章节、页码等\n",
    "\n",
    "返回结果以JSON形式组织，格式为[{\"question\": \"...\", \"context\": ..., \"answer\": \"...\"}, ...]。\n",
    "如果当前文本主要是目录，或者是一些人名、地址、电子邮箱等没有办法生成有意义的问题时，可以返回[]。\n",
    "\n",
    "下方是文本：\n",
    "<document>\n",
    "{{document}}\n",
    "</document>\n",
    "\n",
    "请生成结果：\n",
    "\"\"\"\n",
    "\n",
    "qa_gen_prompt_tmpl_large_context = \"\"\"\n",
    "我会给你一段文本（<document></document>之间的部分），你需要阅读这段文本，分别针对这段文本生成2个问题，和基于这段文本对问题的回答，回答请保持完整，无须重复问题。\n",
    "尽可能创建一些需要综合*大段*文本才能回答的问题，但不要问类似“这一段主要讲了什么内容”这样的问题，答案要能够独立回答问题，而不是引用现有的章节、页码等；不要问具体过于细节的问题，例如“海湾国家的2024年预期经济增长率是多少”，而是尽可能问类似“2024年全球经济的几大趋势是什么”、“受局部中东地区紧张局势影响，可能对全球原物料有哪些影响”。\n",
    "返回结果以JSON形式组织，格式为[{\"question\": \"...\", \"answer\": \"...\"}, ...]。\n",
    "如果当前文本主要是目录，或者是一些人名、地址、电子邮箱等没有办法生成有意义的问题时，可以返回[]。\n",
    "\n",
    "下方是文本：\n",
    "<document>\n",
    "{{document}}\n",
    "</document>\n",
    "\n",
    "请生成结果：\n",
    "\"\"\""
   ]
  },
  {
   "cell_type": "code",
   "execution_count": 32,
   "metadata": {},
   "outputs": [],
   "source": [
    "from openai import OpenAI\n",
    "import time\n",
    "import random\n",
    "\n",
    "from zhipuai import ZhipuAI\n",
    "client = ZhipuAI(api_key=\"\")  \n",
    "# response = client.chat.completions.create(\n",
    "#     model=\"glm-4-plus\",  \n",
    "#     messages=[\n",
    "#         {\"role\": \"system\", \"content\": \"你是一个乐于回答各种问题的小助手，你的任务是提供专业、准确、有洞察力的建议。\"},\n",
    "#         {\"role\": \"user\", \"content\": \"你是谁\"},\n",
    "#     ],\n",
    "#     stream=True,\n",
    "# )\n",
    "# for chunk in response:\n",
    "#     print(chunk.choices[0].delta.content)\n",
    "\n",
    "def build_qa_prompt(prompt_tmpl, text):\n",
    "    prompt = prompt_tmpl.replace('{{document}}', text).strip()\n",
    "    return prompt\n",
    "\n",
    "def chat(prompt, max_retry=3, debug=False, top_p=0.95, temperature=0.85):\n",
    "    def do_chat(prompt):\n",
    "        completion = client.chat.completions.create(\n",
    "            model=\"glm-4-plus\",\n",
    "            messages=[\n",
    "                {\"role\": \"system\", \"content\": \"你是一个乐于回答各种问题的小助手，你的任务是提供专业、准确、有洞察力的建议。\"},\n",
    "                {\"role\": \"user\", \"content\": prompt}\n",
    "            ],\n",
    "            top_p=top_p,\n",
    "            temperature=temperature\n",
    "        )\n",
    "        return completion.choices[0].message.content\n",
    "\n",
    "    while max_retry > 0:\n",
    "        try:\n",
    "            return do_chat(prompt)\n",
    "        except Exception as e:\n",
    "            max_retry -= 1\n",
    "            sleep_seconds = random.randint(1, 4)\n",
    "            if debug:\n",
    "                print(f\"{str(e)}, remain retry: {max_retry}, sleeping {sleep_seconds}s {prompt}\")\n",
    "            time.sleep(sleep_seconds)\n",
    "    return None"
   ]
  },
  {
   "cell_type": "code",
   "execution_count": 35,
   "metadata": {},
   "outputs": [
    {
     "data": {
      "text/plain": [
       "'全球经济金融展望报告\\n中国银行研究院 40 2024年\\n注重绿色经济发展，为中海经贸合作创造了良好机遇。\\n（一）近年来海湾六国经济表现受能源价格影响较大\\n受国际能源价格走势影响，近年来海湾六国经济增长波动较大。2022年，\\n在全球油气价格飙升推动下，海湾六国经济增长强劲，实际GDP增速达7.3%。\\n其中，沙特占据海湾六国经济体量的半壁江山。2022年，沙特GDP规模达1.1\\n万亿美元，阿联酋和卡塔尔GDP规模分别为5075亿和2373亿美元，位列第二\\n和第三位（图26）。油气部门在海湾六国经济总量中的占比超过40%，在沙特\\n的占比更是接近七成。\\n图26：2022年海湾六国经济体量（亿美元）\\n资料来源：世界银行，中国银行研究院\\n2023年以来，海湾六国经济增长明显放缓。主要经济体货币政策加速收紧、\\n全球经济活动减少使全球能源需求下降，海湾六国经济增长面临严重挑战。IMF\\n在最新展望报告中将海湾六国2023年经济增速下调0.8个百分点至1.7%。其中，\\n沙特经济增速预计仅为0.8%，低于中东石油出口国的平均水平。相比之下，阿\\n联酋韧性较强，预计2023年和2024年经济增速分别为3.4%和4.0%，为海湾\\n六国中最高（图27）。鉴于海湾六国经济结构相对单一，非石油部门虽然为海'"
      ]
     },
     "execution_count": 35,
     "metadata": {},
     "output_type": "execute_result"
    }
   ],
   "source": [
    "text = splitted_docs[40].page_content\n",
    "text"
   ]
  },
  {
   "cell_type": "code",
   "execution_count": 36,
   "metadata": {},
   "outputs": [
    {
     "name": "stdout",
     "output_type": "stream",
     "text": [
      "```json\n",
      "[\n",
      "    {\n",
      "        \"question\": \"近年来海湾六国经济增长波动的主要原因是什么？\",\n",
      "        \"context\": \"受国际能源价格走势影响，近年来海湾六国经济增长波动较大。\",\n",
      "        \"answer\": \"受国际能源价格走势影响。\"\n",
      "    },\n",
      "    {\n",
      "        \"question\": \"2022年海湾六国实际GDP增速是多少？\",\n",
      "        \"context\": \"2022年，在全球油气价格飙升推动下，海湾六国经济增长强劲，实际GDP增速达7.3%。\",\n",
      "        \"answer\": \"7.3%。\"\n",
      "    },\n",
      "    {\n",
      "        \"question\": \"2022年沙特GDP规模是多少？\",\n",
      "        \"context\": \"2022年，沙特GDP规模达1.1万亿美元。\",\n",
      "        \"answer\": \"1.1万亿美元。\"\n",
      "    },\n",
      "    {\n",
      "        \"question\": \"2022年阿联酋和卡塔尔的GDP规模分别是多少？\",\n",
      "        \"context\": \"2022年，阿联酋和卡塔尔GDP规模分别为5075亿和2373亿美元，位列第二和第三位（图26）。\",\n",
      "        \"answer\": \"阿联酋5075亿美元，卡塔尔2373亿美元。\"\n",
      "    },\n",
      "    {\n",
      "        \"question\": \"油气部门在海湾六国经济总量中的占比是多少？\",\n",
      "        \"context\": \"油气部门在海湾六国经济总量中的占比超过40%，在沙特的占比更是接近七成。\",\n",
      "        \"answer\": \"超过40%。\"\n",
      "    },\n",
      "    {\n",
      "        \"question\": \"2023年海湾六国经济增长明显放缓的原因是什么？\",\n",
      "        \"context\": \"2023年以来，海湾六国经济增长明显放缓。主要经济体货币政策加速收紧、全球经济活动减少使全球能源需求下降，海湾六国经济增长面临严重挑战。\",\n",
      "        \"answer\": \"主要经济体货币政策加速收紧、全球经济活动减少使全球能源需求下降。\"\n",
      "    },\n",
      "    {\n",
      "        \"question\": \"IMF将海湾六国2023年经济增速下调了多少个百分点？\",\n",
      "        \"context\": \"IMF在最新展望报告中将海湾六国2023年经济增速下调0.8个百分点至1.7%。\",\n",
      "        \"answer\": \"0.8个百分点。\"\n",
      "    },\n",
      "    {\n",
      "        \"question\": \"2023年和2024年阿联酋的经济增速预计分别是多少？\",\n",
      "        \"context\": \"相比之下，阿联酋韧性较强，预计2023年和2024年经济增速分别为3.4%和4.0%，为海湾六国中最高（图27）。\",\n",
      "        \"answer\": \"2023年3.4%，2024年4.0%。\"\n",
      "    }\n",
      "]\n",
      "```\n"
     ]
    }
   ],
   "source": [
    "print(chat(build_qa_prompt(qa_gen_prompt_tmpl, text), debug=True))"
   ]
  },
  {
   "cell_type": "code",
   "execution_count": null,
   "metadata": {},
   "outputs": [],
   "source": []
  }
 ],
 "metadata": {
  "kernelspec": {
   "display_name": "rag",
   "language": "python",
   "name": "python3"
  },
  "language_info": {
   "codemirror_mode": {
    "name": "ipython",
    "version": 3
   },
   "file_extension": ".py",
   "mimetype": "text/x-python",
   "name": "python",
   "nbconvert_exporter": "python",
   "pygments_lexer": "ipython3",
   "version": "3.10.16"
  }
 },
 "nbformat": 4,
 "nbformat_minor": 2
}
